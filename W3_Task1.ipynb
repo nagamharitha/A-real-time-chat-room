{
  "nbformat": 4,
  "nbformat_minor": 0,
  "metadata": {
    "colab": {
      "provenance": [],
      "authorship_tag": "ABX9TyOegJ4ViHPDONqxjst24Xwz",
      "include_colab_link": true
    },
    "kernelspec": {
      "name": "python3",
      "display_name": "Python 3"
    },
    "language_info": {
      "name": "python"
    }
  },
  "cells": [
    {
      "cell_type": "markdown",
      "metadata": {
        "id": "view-in-github",
        "colab_type": "text"
      },
      "source": [
        "<a href=\"https://colab.research.google.com/github/nagamharitha/A-real-time-chat-room/blob/main/W3_Task1.ipynb\" target=\"_parent\"><img src=\"https://colab.research.google.com/assets/colab-badge.svg\" alt=\"Open In Colab\"/></a>"
      ]
    },
    {
      "cell_type": "code",
      "source": [
        "!pip install pyspark"
      ],
      "metadata": {
        "colab": {
          "base_uri": "https://localhost:8080/"
        },
        "id": "IjfMatv7z5Kg",
        "outputId": "368bfabf-2786-4d24-adf3-9515d06305ef"
      },
      "execution_count": null,
      "outputs": [
        {
          "output_type": "stream",
          "name": "stdout",
          "text": [
            "Requirement already satisfied: pyspark in /usr/local/lib/python3.11/dist-packages (3.5.1)\n",
            "Requirement already satisfied: py4j==0.10.9.7 in /usr/local/lib/python3.11/dist-packages (from pyspark) (0.10.9.7)\n"
          ]
        }
      ]
    },
    {
      "cell_type": "code",
      "execution_count": null,
      "metadata": {
        "id": "p0vudq0NyDQT"
      },
      "outputs": [],
      "source": [
        "#initialize SparkSession and installed Required Libraries\n",
        "import matplotlib.pyplot as plt\n",
        "import numpy as np\n",
        "import pandas as pd\n",
        "from pyspark.sql import SparkSession\n",
        "from pyspark.ml.feature import VectorAssembler, StandardScaler\n",
        "from pyspark.ml.regression import LinearRegression\n",
        "from pyspark.ml.evaluation import RegressionEvaluator\n",
        "from pyspark.ml import Pipeline"
      ]
    },
    {
      "cell_type": "code",
      "source": [
        "spark = SparkSession.builder \\\n",
        "    .appName(\"Property_Price_Regression\") \\\n",
        "    .master(\"local[*]\") \\\n",
        "    .config(\"spark.executor.memory\", \"4g\") \\\n",
        "    .config(\"spark.driver.memory\", \"2g\") \\\n",
        "    .getOrCreate()\n"
      ],
      "metadata": {
        "id": "eYVbnEuVyJRi"
      },
      "execution_count": null,
      "outputs": []
    },
    {
      "cell_type": "code",
      "source": [
        "import psutil\n",
        "print(f\"CPU Usage: {psutil.cpu_percent()}%\")\n",
        "print(f\"Memory Usage: {psutil.virtual_memory().percent}%\")"
      ],
      "metadata": {
        "colab": {
          "base_uri": "https://localhost:8080/"
        },
        "id": "kmf4UVMkybgi",
        "outputId": "959bb6ac-46f7-45d7-82f2-55fe0913223c"
      },
      "execution_count": null,
      "outputs": [
        {
          "output_type": "stream",
          "name": "stdout",
          "text": [
            "CPU Usage: 21.2%\n",
            "Memory Usage: 17.5%\n"
          ]
        }
      ]
    },
    {
      "cell_type": "code",
      "source": [
        "# Mount Gdrive\n",
        "from google.colab import drive\n",
        "drive.mount('/content/drive')"
      ],
      "metadata": {
        "colab": {
          "base_uri": "https://localhost:8080/"
        },
        "id": "ZUzKzwPyyfHG",
        "outputId": "03013867-c49c-4367-8402-027bdbac05c4"
      },
      "execution_count": null,
      "outputs": [
        {
          "output_type": "stream",
          "name": "stdout",
          "text": [
            "Drive already mounted at /content/drive; to attempt to forcibly remount, call drive.mount(\"/content/drive\", force_remount=True).\n"
          ]
        }
      ]
    },
    {
      "cell_type": "code",
      "source": [
        "\n",
        "df = spark.read.csv(\"/content/drive/MyDrive/ML CN7030 /property.csv\", header=True, inferSchema=True)\n",
        "\n",
        "df.show(5)\n",
        "df.printSchema()\n"
      ],
      "metadata": {
        "colab": {
          "base_uri": "https://localhost:8080/"
        },
        "id": "tDOwW9LQynPF",
        "outputId": "18c9cbe7-8a60-4014-8565-339b28f2ecd7"
      },
      "execution_count": null,
      "outputs": [
        {
          "output_type": "stream",
          "name": "stdout",
          "text": [
            "+--------------+------------+-------------+----------+--------+------------------+\n",
            "|Square_Footage|Num_Bedrooms|Num_Bathrooms|Year_Built|Lot_Size|             Price|\n",
            "+--------------+------------+-------------+----------+--------+------------------+\n",
            "|          1360|           2|            3|      1953|    7860| 303948.1373854071|\n",
            "|          4272|           3|            3|      1997|    5292| 860386.2685075302|\n",
            "|          3592|           4|            1|      1983|    9723| 734389.7538956215|\n",
            "|           966|           6|            1|      1903|    4086| 226448.8070714377|\n",
            "|          4926|           6|            4|      1944|    1081|1022486.2616704078|\n",
            "+--------------+------------+-------------+----------+--------+------------------+\n",
            "only showing top 5 rows\n",
            "\n",
            "root\n",
            " |-- Square_Footage: integer (nullable = true)\n",
            " |-- Num_Bedrooms: integer (nullable = true)\n",
            " |-- Num_Bathrooms: integer (nullable = true)\n",
            " |-- Year_Built: integer (nullable = true)\n",
            " |-- Lot_Size: integer (nullable = true)\n",
            " |-- Price: double (nullable = true)\n",
            "\n"
          ]
        }
      ]
    },
    {
      "cell_type": "code",
      "source": [
        "# show Schema,Prints the structure of the dataset\n",
        "df.printSchema()"
      ],
      "metadata": {
        "colab": {
          "base_uri": "https://localhost:8080/"
        },
        "id": "FVjnPXkLz4QW",
        "outputId": "302bd1ac-3c55-47d6-8751-a27a99bb0624"
      },
      "execution_count": null,
      "outputs": [
        {
          "output_type": "stream",
          "name": "stdout",
          "text": [
            "root\n",
            " |-- Square_Footage: integer (nullable = true)\n",
            " |-- Num_Bedrooms: integer (nullable = true)\n",
            " |-- Num_Bathrooms: integer (nullable = true)\n",
            " |-- Year_Built: integer (nullable = true)\n",
            " |-- Lot_Size: integer (nullable = true)\n",
            " |-- Price: double (nullable = true)\n",
            "\n"
          ]
        }
      ]
    },
    {
      "cell_type": "code",
      "source": [
        "#Statistical Analysis\n",
        "df.describe().show()"
      ],
      "metadata": {
        "colab": {
          "base_uri": "https://localhost:8080/"
        },
        "id": "YpErMkCV0DH0",
        "outputId": "5245a30b-aa8f-47ca-f39d-3ace3edb4148"
      },
      "execution_count": null,
      "outputs": [
        {
          "output_type": "stream",
          "name": "stdout",
          "text": [
            "+-------+-----------------+-----------------+------------------+-----------------+-----------------+------------------+\n",
            "|summary|   Square_Footage|     Num_Bedrooms|     Num_Bathrooms|       Year_Built|         Lot_Size|             Price|\n",
            "+-------+-----------------+-----------------+------------------+-----------------+-----------------+------------------+\n",
            "|  count|          1000000|          1000000|           1000000|          1000000|          1000000|           1000000|\n",
            "|   mean|      2750.657104|         3.501114|          2.500439|       1960.52736|      5502.373911| 581839.6653163614|\n",
            "| stddev|1298.569362387213|1.708173784151257|1.1178528780094728|35.21780350510348|2598.885882999355|260685.36722644986|\n",
            "|    min|              500|                1|                 1|             1900|             1000| 51495.71116919513|\n",
            "|    max|             4999|                6|                 4|             2021|             9999|1123219.4691521737|\n",
            "+-------+-----------------+-----------------+------------------+-----------------+-----------------+------------------+\n",
            "\n"
          ]
        }
      ]
    },
    {
      "cell_type": "code",
      "source": [
        "from pyspark.sql.functions import col, isnan, when, count\n",
        "df.select([count(when(isnan(c) | col(c).isNull(), c)).alias(c) for c in df.columns]).show()\n"
      ],
      "metadata": {
        "colab": {
          "base_uri": "https://localhost:8080/"
        },
        "id": "fgrC5rAu9CAZ",
        "outputId": "b95e6fd4-f1f9-48e9-d4b7-e62140437e4a"
      },
      "execution_count": null,
      "outputs": [
        {
          "output_type": "stream",
          "name": "stdout",
          "text": [
            "+--------------+------------+-------------+----------+--------+-----+\n",
            "|Square_Footage|Num_Bedrooms|Num_Bathrooms|Year_Built|Lot_Size|Price|\n",
            "+--------------+------------+-------------+----------+--------+-----+\n",
            "|             0|           0|            0|         0|       0|    0|\n",
            "+--------------+------------+-------------+----------+--------+-----+\n",
            "\n"
          ]
        }
      ]
    },
    {
      "cell_type": "code",
      "source": [
        "# Define features and target\n",
        "input_features = ['Square_Footage', 'Num_Bedrooms', 'Num_Bathrooms', 'Year_Built']\n",
        "target = 'Price'\n"
      ],
      "metadata": {
        "id": "Moxan9-R0nGs"
      },
      "execution_count": null,
      "outputs": []
    },
    {
      "cell_type": "code",
      "source": [
        "# VectorAssembler\n",
        "assembler = VectorAssembler(inputCols=input_features, outputCol=\"features\")"
      ],
      "metadata": {
        "id": "bxCaiNVUGx2c"
      },
      "execution_count": null,
      "outputs": []
    },
    {
      "cell_type": "code",
      "source": [
        "\n",
        "# StandardScaler\n",
        "scaler = StandardScaler(inputCol=\"features\", outputCol=\"scaled_features\")"
      ],
      "metadata": {
        "id": "KYseepJsG3AU"
      },
      "execution_count": null,
      "outputs": []
    },
    {
      "cell_type": "code",
      "source": [
        "data_train, data_test = df.randomSplit([0.7, 0.3], seed=42)"
      ],
      "metadata": {
        "id": "vSgHih62zPEY"
      },
      "execution_count": null,
      "outputs": []
    },
    {
      "cell_type": "code",
      "source": [
        "# Linear Regression\n",
        "lr = LinearRegression(labelCol=target, featuresCol=\"scaled_features\")\n",
        "pipeline_lr = Pipeline(stages=[assembler, scaler, lr])\n",
        "model_lr = pipeline_lr.fit(data_train)\n",
        "pred_lr = model_lr.transform(data_test)"
      ],
      "metadata": {
        "id": "VxE1wB6THG8N"
      },
      "execution_count": null,
      "outputs": []
    },
    {
      "cell_type": "code",
      "source": [
        "lasso = LinearRegression(labelCol=target, featuresCol=\"scaled_features\", elasticNetParam=1.0, regParam=0.1)\n",
        "pipeline_lasso = Pipeline(stages=[assembler, scaler, lasso])\n",
        "model_lasso = pipeline_lasso.fit(data_train)\n",
        "pred_lasso = model_lasso.transform(data_test)"
      ],
      "metadata": {
        "id": "b8EWlLhtzV1z"
      },
      "execution_count": null,
      "outputs": []
    },
    {
      "cell_type": "code",
      "source": [
        "ridge = LinearRegression(labelCol=target, featuresCol=\"scaled_features\", elasticNetParam=0.0, regParam=0.1)\n",
        "pipeline_ridge = Pipeline(stages=[assembler, scaler, ridge])\n",
        "model_ridge = pipeline_ridge.fit(data_train)\n",
        "pred_ridge = model_ridge.transform(data_test)"
      ],
      "metadata": {
        "id": "QO-cw6j0zYf1"
      },
      "execution_count": null,
      "outputs": []
    },
    {
      "cell_type": "code",
      "source": [
        "evaluator_r2 = RegressionEvaluator(labelCol=target, predictionCol=\"prediction\", metricName=\"r2\")\n",
        "evaluator_rmse = RegressionEvaluator(labelCol=target, predictionCol=\"prediction\", metricName=\"rmse\")\n",
        "evaluator_mse = RegressionEvaluator(labelCol=target, predictionCol=\"prediction\", metricName=\"mse\")\n",
        "\n",
        "# Linear\n",
        "r2_lr = evaluator_r2.evaluate(pred_lr)\n",
        "rmse_lr = evaluator_rmse.evaluate(pred_lr)\n",
        "mse_lr = evaluator_mse.evaluate(pred_lr)\n",
        "\n",
        "# Lasso\n",
        "r2_lasso = evaluator_r2.evaluate(pred_lasso)\n",
        "rmse_lasso = evaluator_rmse.evaluate(pred_lasso)\n",
        "mse_lasso = evaluator_mse.evaluate(pred_lasso)\n",
        "\n",
        "# Ridge\n",
        "r2_ridge = evaluator_r2.evaluate(pred_ridge)\n",
        "rmse_ridge = evaluator_rmse.evaluate(pred_ridge)\n",
        "mse_ridge = evaluator_mse.evaluate(pred_ridge)\n",
        "\n",
        "# Print\n",
        "print(f\"Linear Regression → R²: {r2_lr}, RMSE: {rmse_lr}, MSE: {mse_lr}\")\n",
        "print(f\"Lasso Regression  → R²: {r2_lasso}, RMSE: {rmse_lasso}, MSE: {mse_lasso}\")\n",
        "print(f\"Ridge Regression  → R²: {r2_ridge}, RMSE: {rmse_ridge}, MSE: {mse_ridge}\")\n"
      ],
      "metadata": {
        "id": "UdtAyF9BHKC-",
        "colab": {
          "base_uri": "https://localhost:8080/"
        },
        "outputId": "fadc59fd-3410-4190-de56-a44044cf5f00"
      },
      "execution_count": null,
      "outputs": [
        {
          "output_type": "stream",
          "name": "stdout",
          "text": [
            "Linear Regression → R²: 0.9941024406933467, RMSE: 20008.829625707443, MSE: 400353262.99058783\n",
            "Lasso Regression  → R²: 0.9941024406587798, RMSE: 20008.829684345503, MSE: 400353265.33714575\n",
            "Ridge Regression  → R²: 0.9941024405879599, RMSE: 20008.82980448194, MSE: 400353270.14472467\n"
          ]
        }
      ]
    },
    {
      "cell_type": "code",
      "source": [
        "import itertools\n",
        "# Store results\n",
        "models = ['Linear', 'Lasso', 'Ridge']\n",
        "r2_scores = [r2_lr, r2_lasso, r2_ridge]\n",
        "rmse_scores = [rmse_lr, rmse_lasso, rmse_ridge]\n",
        "mse_scores = [mse_lr, mse_lasso, mse_ridge]\n",
        "\n",
        "x = np.arange(len(models))\n",
        "width = 0.2\n",
        "\n",
        "plt.bar(x - width, mse_scores, width, label='MSE')\n",
        "plt.bar(x, rmse_scores, width, label='RMSE')\n",
        "plt.bar(x + width, r2_scores, width, label='R²')\n",
        "\n",
        "plt.xlabel('Model')\n",
        "plt.ylabel('Scores')\n",
        "plt.title('Model Comparison')\n",
        "plt.xticks(x, models)\n",
        "plt.legend()\n",
        "plt.show()"
      ],
      "metadata": {
        "colab": {
          "base_uri": "https://localhost:8080/",
          "height": 472
        },
        "id": "ZhZlSPWvHPaQ",
        "outputId": "defa91c5-4052-446e-9247-e8ba1bb1d8d2"
      },
      "execution_count": null,
      "outputs": [
        {
          "output_type": "display_data",
          "data": {
            "text/plain": [
              "<Figure size 640x480 with 1 Axes>"
            ],
            "image/png": "[encoded data removed]"
          },
          "metadata": {}
        }
      ]
    },
    {
      "cell_type": "code",
      "source": [
        "input_features = ['Square_Footage', 'Num_Bedrooms', 'Num_Bathrooms']\n",
        "target = 'Price'\n"
      ],
      "metadata": {
        "id": "dVjlo2o_DZct"
      },
      "execution_count": null,
      "outputs": []
    },
    {
      "cell_type": "code",
      "source": [
        "assembler = VectorAssembler(inputCols=input_features, outputCol=\"features\")\n",
        "scaler = StandardScaler(inputCol=\"features\", outputCol=\"scaled_features\")"
      ],
      "metadata": {
        "id": "pQseAdBzDb7M"
      },
      "execution_count": null,
      "outputs": []
    },
    {
      "cell_type": "code",
      "source": [
        "data_train, data_test = df.randomSplit([0.7, 0.3], seed=42)"
      ],
      "metadata": {
        "id": "AJ7-oKfODkti"
      },
      "execution_count": null,
      "outputs": []
    },
    {
      "cell_type": "code",
      "source": [
        "lr = LinearRegression(labelCol=target, featuresCol=\"scaled_features\")\n",
        "pipeline_lr = Pipeline(stages=[assembler, scaler, lr])\n",
        "model_lr = pipeline_lr.fit(data_train)\n",
        "pred_lr = model_lr.transform(data_test)"
      ],
      "metadata": {
        "id": "yKmahrqPDneG"
      },
      "execution_count": null,
      "outputs": []
    },
    {
      "cell_type": "code",
      "source": [
        "lasso = LinearRegression(labelCol=target, featuresCol=\"scaled_features\", elasticNetParam=1.0, regParam=0.1)\n",
        "pipeline_lasso = Pipeline(stages=[assembler, scaler, lasso])\n",
        "model_lasso = pipeline_lasso.fit(data_train)\n",
        "pred_lasso = model_lasso.transform(data_test)"
      ],
      "metadata": {
        "id": "PvQNS34rDyE5"
      },
      "execution_count": null,
      "outputs": []
    },
    {
      "cell_type": "code",
      "source": [
        "ridge = LinearRegression(labelCol=target, featuresCol=\"scaled_features\", elasticNetParam=0.0, regParam=0.1)\n",
        "pipeline_ridge = Pipeline(stages=[assembler, scaler, ridge])\n",
        "model_ridge = pipeline_ridge.fit(data_train)\n",
        "pred_ridge = model_ridge.transform(data_test)"
      ],
      "metadata": {
        "id": "Nsp_QBY_DuP2"
      },
      "execution_count": null,
      "outputs": []
    },
    {
      "cell_type": "code",
      "source": [
        "evaluator_r2 = RegressionEvaluator(labelCol=target, predictionCol=\"prediction\", metricName=\"r2\")\n",
        "evaluator_rmse = RegressionEvaluator(labelCol=target, predictionCol=\"prediction\", metricName=\"rmse\")\n",
        "evaluator_mse = RegressionEvaluator(labelCol=target, predictionCol=\"prediction\", metricName=\"mse\")\n",
        "\n",
        "# Linear\n",
        "r2_lr = evaluator_r2.evaluate(pred_lr)\n",
        "rmse_lr = evaluator_rmse.evaluate(pred_lr)\n",
        "mse_lr = evaluator_mse.evaluate(pred_lr)\n",
        "\n",
        "# Lasso\n",
        "r2_lasso = evaluator_r2.evaluate(pred_lasso)\n",
        "rmse_lasso = evaluator_rmse.evaluate(pred_lasso)\n",
        "mse_lasso = evaluator_mse.evaluate(pred_lasso)\n",
        "\n",
        "# Ridge\n",
        "r2_ridge = evaluator_r2.evaluate(pred_ridge)\n",
        "rmse_ridge = evaluator_rmse.evaluate(pred_ridge)\n",
        "mse_ridge = evaluator_mse.evaluate(pred_ridge)\n",
        "\n",
        "# Print\n",
        "print(f\"Linear Regression → R²: {r2_lr}, RMSE: {rmse_lr}, MSE: {mse_lr}\")\n",
        "print(f\"Lasso Regression  → R²: {r2_lasso}, RMSE: {rmse_lasso}, MSE: {mse_lasso}\")\n",
        "print(f\"Ridge Regression  → R²: {r2_ridge}, RMSE: {rmse_ridge}, MSE: {mse_ridge}\")\n"
      ],
      "metadata": {
        "colab": {
          "base_uri": "https://localhost:8080/"
        },
        "id": "ruSczJTKD3H6",
        "outputId": "33bcba38-0247-4b17-b9f9-7801605231d0"
      },
      "execution_count": null,
      "outputs": [
        {
          "output_type": "stream",
          "name": "stdout",
          "text": [
            "Linear Regression → R²: 0.9939189888624038, RMSE: 20317.64777714158, MSE: 412806811.1959862\n",
            "Lasso Regression  → R²: 0.9939189889132484, RMSE: 20317.647692201535, MSE: 412806807.7444223\n",
            "Ridge Regression  → R²: 0.9939189888012064, RMSE: 20317.64787937672, MSE: 412806815.35034126\n"
          ]
        }
      ]
    },
    {
      "cell_type": "code",
      "source": [
        "models = ['Linear', 'Lasso', 'Ridge']\n",
        "r2_scores = [r2_lr, r2_lasso, r2_ridge]\n",
        "rmse_scores = [rmse_lr, rmse_lasso, rmse_ridge]\n",
        "mse_scores = [mse_lr, mse_lasso, mse_ridge]\n",
        "\n",
        "x = np.arange(len(models))\n",
        "width = 0.2\n",
        "\n",
        "plt.bar(x - width, mse_scores, width, label='MSE')\n",
        "plt.bar(x, rmse_scores, width, label='RMSE')\n",
        "plt.bar(x + width, r2_scores, width, label='R²')\n",
        "\n",
        "plt.xlabel('Model')\n",
        "plt.ylabel('Scores')\n",
        "plt.title('Model Comparison')\n",
        "plt.xticks(x, models)\n",
        "plt.legend()\n",
        "plt.show()\n"
      ],
      "metadata": {
        "id": "h_4zF2G6Hfwk",
        "colab": {
          "base_uri": "https://localhost:8080/",
          "height": 472
        },
        "outputId": "0d5464f6-212a-4fb2-c6aa-13ee80db2b8d"
      },
      "execution_count": null,
      "outputs": [
        {
          "output_type": "display_data",
          "data": {
            "text/plain": [
              "<Figure size 640x480 with 1 Axes>"
            ],
            "image/png": "[encoded data removed]"
          },
          "metadata": {}
        }
      ]
    }
  ]
}